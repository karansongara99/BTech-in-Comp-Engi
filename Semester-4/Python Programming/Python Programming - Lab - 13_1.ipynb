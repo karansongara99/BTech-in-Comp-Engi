{
 "cells": [
  {
   "cell_type": "markdown",
   "metadata": {},
   "source": [
    "<a href='https://www.darshan.ac.in/'> <img src='https://www.darshan.ac.in/Content/media/DU_Logo.svg' width=\"250\" height=\"300\"/></a>\n",
    "<pre>\n",
    "<center><b><h1>Python Programming - 2301CS404</b></center>\n",
    "    <center><b><h1>Karan Sonagara - 24010101694</b></center>\n",
    "<center><b><h1>Lab - 13</b></center>    \n",
    "<pre>"
   ]
  },
  {
   "cell_type": "markdown",
   "metadata": {},
   "source": [
    "# OOP"
   ]
  },
  {
   "cell_type": "markdown",
   "metadata": {},
   "source": [
    "### 01) Write a Program to create a class by name Students, and initialize attributes like name, age, and grade while creating an object."
   ]
  },
  {
   "cell_type": "code",
   "execution_count": 9,
   "metadata": {},
   "outputs": [
    {
     "name": "stdout",
     "output_type": "stream",
     "text": [
      "Karan 20 A\n"
     ]
    }
   ],
   "source": [
    "class Student:\n",
    "    def __init__(self,name,age,grade):\n",
    "        self.name = name\n",
    "        self.age = age\n",
    "        self.grade = grade\n",
    "\n",
    "    def display(self):\n",
    "        print(self.name,self.age,self.grade)\n",
    "\n",
    "s1 = Student(\"Karan\",20,\"A\")\n",
    "s1.display()"
   ]
  },
  {
   "cell_type": "markdown",
   "metadata": {},
   "source": [
    "### 02) Create a class named Bank_Account with Account_No, User_Name, Email,Account_Type and Account_Balance data members. Also create a method GetAccountDetails() and DisplayAccountDetails(). Create main method to demonstrate the Bank_Account class."
   ]
  },
  {
   "cell_type": "code",
   "execution_count": 9,
   "metadata": {},
   "outputs": [
    {
     "name": "stdin",
     "output_type": "stream",
     "text": [
      "Enter Account Number:  101\n",
      "Enter User Name:  Karan Sonagara\n",
      "Enter Email:  karansongara@gmail.com\n",
      "Enter Account Type (Savings/Current):  Current\n",
      "Enter Account Balance:  15600\n"
     ]
    },
    {
     "name": "stdout",
     "output_type": "stream",
     "text": [
      "\n",
      "Account Details\n",
      "Account Number: 101\n",
      "User Name: Karan Sonagara\n",
      "Email: karansongara@gmail.com\n",
      "Account Type: Current\n",
      "Account Balance: 15600.0\n"
     ]
    }
   ],
   "source": [
    "class Bank_Account:\n",
    "    def GetAccountDetails(self):\n",
    "        self.Account_No = input(\"Enter Account Number: \")\n",
    "        self.User_Name = input(\"Enter User Name: \")\n",
    "        self.Email = input(\"Enter Email: \")\n",
    "        self.Account_Type = input(\"Enter Account Type (Savings/Current): \")\n",
    "        self.Account_Balance = float(input(\"Enter Account Balance: \"))\n",
    "\n",
    "    def DisplayAccountDetails(self):\n",
    "        print(\"\\nAccount Details\")\n",
    "        print(f\"Account Number: {self.Account_No}\")\n",
    "        print(f\"User Name: {self.User_Name}\")\n",
    "        print(f\"Email: {self.Email}\")\n",
    "        print(f\"Account Type: {self.Account_Type}\")\n",
    "        print(f\"Account Balance: {self.Account_Balance}\")\n",
    "\n",
    "b1 = Bank_Account()\n",
    "b1.GetAccountDetails()\n",
    "b1.DisplayAccountDetails()\n"
   ]
  },
  {
   "cell_type": "markdown",
   "metadata": {},
   "source": [
    "### 03) WAP to create Circle class with area and perimeter function to find area and perimeter of circle."
   ]
  },
  {
   "cell_type": "code",
   "execution_count": 7,
   "metadata": {},
   "outputs": [
    {
     "data": {
      "text/plain": [
       "15.707963267948966"
      ]
     },
     "execution_count": 7,
     "metadata": {},
     "output_type": "execute_result"
    }
   ],
   "source": [
    "import math\n",
    "\n",
    "class Circle:\n",
    "    def __init__(self, radius):\n",
    "        self.radius = radius\n",
    "\n",
    "    def area(self):\n",
    "        return math.pi * self.radius ** 2\n",
    "\n",
    "    def perimeter(self):\n",
    "        return 2 * math.pi * self.radius\n",
    "\n",
    "c1 = Circle(2.5)\n",
    "c1.area()\n",
    "c1.perimeter()"
   ]
  },
  {
   "cell_type": "markdown",
   "metadata": {},
   "source": [
    "### 04) Create a class for employees that includes attributes such as name, age, salary, and methods to update and display employee information."
   ]
  },
  {
   "cell_type": "code",
   "execution_count": 25,
   "metadata": {},
   "outputs": [
    {
     "name": "stdout",
     "output_type": "stream",
     "text": [
      "Karan 15 80000\n",
      "Bhavya 10 500\n"
     ]
    }
   ],
   "source": [
    "class Employees:\n",
    "    def __init__(self,name,age,salary):\n",
    "        self.name = name\n",
    "        self.age = age\n",
    "        self.salary = salary\n",
    "\n",
    "    def update(self,name,age,salary):\n",
    "        self.name = name\n",
    "        self.age = age\n",
    "        self.salary = salary\n",
    "\n",
    "    def display(self):\n",
    "        print(self.name,self.age,self.salary)\n",
    "\n",
    "e1 = Employees(\"Karan\",15,80000)\n",
    "e1.display()\n",
    "e1.update(\"Bhavya\",10,500)\n",
    "e1.display()"
   ]
  },
  {
   "cell_type": "markdown",
   "metadata": {},
   "source": [
    "### 05) Create a bank account class with methods to deposit, withdraw, and check balance."
   ]
  },
  {
   "cell_type": "code",
   "execution_count": 31,
   "metadata": {},
   "outputs": [
    {
     "name": "stdout",
     "output_type": "stream",
     "text": [
      "Deposited 500. New balance: 1500\n",
      "Withdrawn 300. New balance: 1200\n",
      "Account balance: 1200\n"
     ]
    }
   ],
   "source": [
    "class BankAccount:\n",
    "    def __init__(self, account_holder, balance=0):\n",
    "        self.account_holder = account_holder\n",
    "        self.balance = balance\n",
    "\n",
    "    def deposit(self, amount):\n",
    "        if amount > 0:\n",
    "            self.balance += amount\n",
    "            print(f\"Deposited {amount}. New balance: {self.balance}\")\n",
    "        else:\n",
    "            print(\"Deposit amount must be positive.\")\n",
    "\n",
    "    def withdraw(self, amount):\n",
    "        if 0 < amount <= self.balance:\n",
    "            self.balance -= amount\n",
    "            print(f\"Withdrawn {amount}. New balance: {self.balance}\")\n",
    "        elif amount > self.balance:\n",
    "            print(\"Insufficient funds.\")\n",
    "        else:\n",
    "            print(\"Withdrawal amount must be positive.\")\n",
    "\n",
    "    def check_balance(self):\n",
    "        print(f\"Account balance: {self.balance}\")\n",
    "account = BankAccount(\"John Doe\", 1000)\n",
    "account.deposit(500)\n",
    "account.withdraw(300)\n",
    "account.check_balance()"
   ]
  },
  {
   "cell_type": "markdown",
   "metadata": {},
   "source": [
    "### 06) Create a class for managing inventory that includes attributes such as item name, price, quantity, and methods to add, remove, and update items."
   ]
  },
  {
   "cell_type": "code",
   "execution_count": 2,
   "metadata": {},
   "outputs": [
    {
     "name": "stdout",
     "output_type": "stream",
     "text": [
      "Added 5 of Laptop to inventory.\n",
      "Added 10 of Phone to inventory.\n",
      "Inventory:\n",
      "Laptop: Price - $1000, Quantity - 5\n",
      "Phone: Price - $500, Quantity - 10\n",
      "Removed 3 of Phone from inventory.\n",
      "Updated Laptop in inventory.\n",
      "Inventory:\n",
      "Laptop: Price - $950, Quantity - 5\n",
      "Phone: Price - $500, Quantity - 7\n"
     ]
    }
   ],
   "source": [
    "class Inventory:\n",
    "    def __init__(self):\n",
    "        self.items = {}\n",
    "\n",
    "    def add_item(self, name, price, quantity):\n",
    "        if name in self.items:\n",
    "            self.items[name]['quantity'] += quantity\n",
    "        else:\n",
    "            self.items[name] = {'price': price, 'quantity': quantity}\n",
    "        print(f\"Added {quantity} of {name} to inventory.\")\n",
    "\n",
    "    def remove_item(self, name, quantity):\n",
    "        if name in self.items and self.items[name]['quantity'] >= quantity:\n",
    "            self.items[name]['quantity'] -= quantity\n",
    "            if self.items[name]['quantity'] == 0:\n",
    "                del self.items[name]\n",
    "            print(f\"Removed {quantity} of {name} from inventory.\")\n",
    "        else:\n",
    "            print(\"Item not found\")\n",
    "\n",
    "    def update_item(self, name, price=None, quantity=None):\n",
    "        if name in self.items:\n",
    "            if price is not None:\n",
    "                self.items[name]['price'] = price\n",
    "            if quantity is not None:\n",
    "                self.items[name]['quantity'] = quantity\n",
    "            print(f\"Updated {name} in inventory.\")\n",
    "        else:\n",
    "            print(\"Item not found.\")\n",
    "\n",
    "    def display_inventory(self):\n",
    "        if not self.items:\n",
    "            print(\"Inventory is empty.\")\n",
    "        else:\n",
    "            print(\"Inventory:\")\n",
    "            for name, details in self.items.items():\n",
    "                print(f\"{name}: Price - ${details['price']}, Quantity - {details['quantity']}\")\n",
    "\n",
    "inventory = Inventory()\n",
    "inventory.add_item(\"Laptop\", 1000, 5)\n",
    "inventory.add_item(\"Phone\", 500, 10)\n",
    "inventory.display_inventory()\n",
    "inventory.remove_item(\"Phone\", 3)\n",
    "inventory.update_item(\"Laptop\", price=950)\n",
    "inventory.display_inventory()\n"
   ]
  },
  {
   "cell_type": "markdown",
   "metadata": {},
   "source": [
    "### 07) Create a Class with instance attributes of your choice."
   ]
  },
  {
   "cell_type": "code",
   "execution_count": 36,
   "metadata": {},
   "outputs": [
    {
     "name": "stdout",
     "output_type": "stream",
     "text": [
      "Car: 2022 Toyota Corolla, Color: Blue\n"
     ]
    }
   ],
   "source": [
    "class Demo:\n",
    "    def __init__(self, make, model, year, color):\n",
    "        self.make = make\n",
    "        self.model = model\n",
    "        self.year = year\n",
    "        self.color = color\n",
    "\n",
    "    def display_info(self):\n",
    "        print(f\"Car: {self.year} {self.make} {self.model}, Color: {self.color}\")\n",
    "\n",
    "# Example usage:\n",
    "demo1 = Demo(\"Toyota\", \"Corolla\", 2022, \"Blue\")\n",
    "demo1.display_info()"
   ]
  },
  {
   "cell_type": "markdown",
   "metadata": {},
   "source": [
    "### 08) Create one class student_kit\n",
    "#### Within the student_kit class create one class attribute principal name ( Mr ABC )\n",
    "#### Create one attendance method and take input as number of days.\n",
    "#### While creating student take input their name .\n",
    "#### Create one certificate for each student by taking input of number of days present in class."
   ]
  },
  {
   "cell_type": "code",
   "execution_count": 8,
   "metadata": {},
   "outputs": [
    {
     "name": "stdout",
     "output_type": "stream",
     "text": [
      "Karan Sonagara attended 15 more days. Total: 15 days.\n",
      "Certificate of Attendance\n",
      "Student: Karan Sonagara\n",
      "Principal: Mr ABC\n",
      "Total Days Present: 15\n"
     ]
    }
   ],
   "source": [
    "class StudentKit:\n",
    "    principal_name = \"Mr ABC\"\n",
    "\n",
    "    def __init__(self, student_name):\n",
    "        self.student_name = student_name\n",
    "        self.attendance_days = 0\n",
    "\n",
    "    def mark_attendance(self, days):\n",
    "        self.attendance_days += days\n",
    "        print(f\"{self.student_name} attended {days} more days. Total: {self.attendance_days} days.\")\n",
    "        \n",
    "    def generate_certificate(self):\n",
    "        print(f\"Certificate of Attendance\\nStudent: {self.student_name}\\nPrincipal: {StudentKit.principal_name}\\nTotal Days Present: {self.attendance_days}\")\n",
    "\n",
    "# Example usage\n",
    "student1 = StudentKit(\"Karan Sonagara\")\n",
    "student1.mark_attendance(15)\n",
    "student1.generate_certificate()"
   ]
  },
  {
   "cell_type": "markdown",
   "metadata": {},
   "source": [
    "### 09) Define Time class with hour and minute as data member. Also define addition method to add two time objects."
   ]
  },
  {
   "cell_type": "code",
   "execution_count": 23,
   "metadata": {},
   "outputs": [
    {
     "name": "stdout",
     "output_type": "stream",
     "text": [
      "1st Timing\n",
      "1 20\n",
      "1st Timing\n",
      "2 50\n"
     ]
    }
   ],
   "source": [
    "class TimeClass:\n",
    "    def __init__(self,hour,time):\n",
    "        self.hour = hour\n",
    "        self.time = time\n",
    "\n",
    "    def timeAdd(self,ex):\n",
    "        total_minutes = self.minute + ex.minute\n",
    "        extra_hours = total_minutes // 60\n",
    "        total_hours = self.hour + other.hour + extra_hours\n",
    "        final_minutes = total_minutes % 60\n",
    "        return Time(total_hours, final_minutes)\n",
    "        \n",
    "    def displayTime(self):\n",
    "        print(self.hour,self.time)\n",
    "\n",
    "t1 = TimeClass(1,20)\n",
    "t2 = TimeClass(2,50)\n",
    "print(\"1st Timing\")\n",
    "t1.displayTime()\n",
    "print(\"1st Timing\")\n",
    "t2.displayTime()\n"
   ]
  },
  {
   "cell_type": "code",
   "execution_count": null,
   "metadata": {},
   "outputs": [],
   "source": []
  }
 ],
 "metadata": {
  "kernelspec": {
   "display_name": "Python 3 (ipykernel)",
   "language": "python",
   "name": "python3"
  },
  "language_info": {
   "codemirror_mode": {
    "name": "ipython",
    "version": 3
   },
   "file_extension": ".py",
   "mimetype": "text/x-python",
   "name": "python",
   "nbconvert_exporter": "python",
   "pygments_lexer": "ipython3",
   "version": "3.12.7"
  }
 },
 "nbformat": 4,
 "nbformat_minor": 4
}
