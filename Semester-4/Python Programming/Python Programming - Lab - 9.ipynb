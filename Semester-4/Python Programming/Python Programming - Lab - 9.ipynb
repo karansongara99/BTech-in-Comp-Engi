{
 "cells": [
  {
   "cell_type": "markdown",
   "metadata": {},
   "source": [
    "<a href='https://www.darshan.ac.in/'> <img src='https://www.darshan.ac.in/Content/media/DU_Logo.svg' width=\"250\" height=\"300\"/></a>\n",
    "<pre>\n",
    "<center><b><h1>Python Programming - 2301CS404</b></center>\n",
    "    <center><b><h1>Karan Sonagara - 24010101694</b></center>\n",
    "<center><b><h1>Lab - 9</b></center>    \n",
    "<pre>"
   ]
  },
  {
   "cell_type": "markdown",
   "metadata": {},
   "source": [
    "# File I/O"
   ]
  },
  {
   "cell_type": "markdown",
   "metadata": {},
   "source": [
    "### 01) WAP to read and display the contents of a text file. (also try to open the file in some other directory) \n",
    "#### - in the form of a string\n",
    "#### - line by line\n",
    "#### - in the form of a list"
   ]
  },
  {
   "cell_type": "code",
   "execution_count": 7,
   "metadata": {},
   "outputs": [
    {
     "name": "stdout",
     "output_type": "stream",
     "text": [
      "hello\n",
      "how are you?\n",
      "hello\n",
      "\n",
      "how are you?\n",
      "['hello\\n', 'how are you?']\n"
     ]
    }
   ],
   "source": [
    "fp = open(\"file.txt\",\"r\")\n",
    "print(fp.read())\n",
    "fp.close()\n",
    "\n",
    "fp = open(\"file.txt\",\"r\")\n",
    "print(fp.readline())\n",
    "print(fp.readline())\n",
    "fp.close()\n",
    "\n",
    "fp = open(\"file.txt\",\"r\")\n",
    "print(fp.readlines())\n",
    "fp.close()"
   ]
  },
  {
   "cell_type": "markdown",
   "metadata": {},
   "source": [
    "### 02) WAP to create file named \"new.txt\" only if it doesn't exist."
   ]
  },
  {
   "cell_type": "code",
   "execution_count": 9,
   "metadata": {},
   "outputs": [],
   "source": [
    "fp = open(\"new.tet\",\"w\")\n",
    "fp.close()"
   ]
  },
  {
   "cell_type": "markdown",
   "metadata": {},
   "source": [
    "### 03) WAP to read first 5 lines from the text file."
   ]
  },
  {
   "cell_type": "code",
   "execution_count": 11,
   "metadata": {},
   "outputs": [
    {
     "name": "stdout",
     "output_type": "stream",
     "text": [
      "ABC\n",
      "\n",
      "DEF\n",
      "\n",
      "GHI\n",
      "\n",
      "JKL\n",
      "\n",
      "MNO\n",
      "\n"
     ]
    }
   ],
   "source": [
    "fp = open(\"file.txt\",\"r\")\n",
    "for i in range(5):\n",
    "    print(fp.readline())\n",
    "fp.close()\n"
   ]
  },
  {
   "cell_type": "markdown",
   "metadata": {},
   "source": [
    "### 04) WAP to find the longest word(s) in a file"
   ]
  },
  {
   "cell_type": "code",
   "execution_count": 13,
   "metadata": {},
   "outputs": [
    {
     "name": "stdout",
     "output_type": "stream",
     "text": [
      "ABC\n",
      "\n"
     ]
    }
   ],
   "source": [
    "fp = open(\"file.txt\",\"r\")\n",
    "\n",
    "word = \"\"\n",
    "\n",
    "for i in fp:\n",
    "    for j in i.split(\" \"):\n",
    "        if len(j) > len(word):\n",
    "            word = j\n",
    "\n",
    "print(word)\n",
    "\n",
    "fp.close()"
   ]
  },
  {
   "cell_type": "markdown",
   "metadata": {},
   "source": [
    "### 05) WAP to count the no. of lines, words and characters in a given text file."
   ]
  },
  {
   "cell_type": "code",
   "execution_count": 15,
   "metadata": {},
   "outputs": [
    {
     "name": "stdout",
     "output_type": "stream",
     "text": [
      "no of Lines : 9, no of Word : 9 and no of char : 42\n"
     ]
    }
   ],
   "source": [
    "fp = open(\"file.txt\",\"r\")\n",
    "\n",
    "lines = len(fp.readlines())\n",
    "\n",
    "fp.seek(0,0)\n",
    "\n",
    "words = 0\n",
    "for i in fp:\n",
    "    for j in i.split(\" \"):\n",
    "        words += 1\n",
    "\n",
    "char = fp.tell()\n",
    "\n",
    "print(f\"no of Lines : {lines}, no of Word : {words} and no of char : {char}\")"
   ]
  },
  {
   "cell_type": "markdown",
   "metadata": {},
   "source": [
    "### 06) WAP to copy the content of a file to the another file."
   ]
  },
  {
   "cell_type": "code",
   "execution_count": 16,
   "metadata": {},
   "outputs": [],
   "source": [
    "rfp = open(\"file.txt\",\"r\")\n",
    "wfp = open(\"copy.txt\",\"w\")\n",
    "\n",
    "wfp.write(rfp.read())\n",
    "\n",
    "rfp.close()\n",
    "wfp.close()"
   ]
  },
  {
   "cell_type": "markdown",
   "metadata": {},
   "source": [
    "### 07) WAP to find the size of the text file. "
   ]
  },
  {
   "cell_type": "code",
   "execution_count": 18,
   "metadata": {},
   "outputs": [
    {
     "name": "stdout",
     "output_type": "stream",
     "text": [
      "42\n"
     ]
    }
   ],
   "source": [
    "fp = open(\"file.txt\",\"r\")\n",
    "print(fp.seek(0,2))\n",
    "fp.close()"
   ]
  },
  {
   "cell_type": "markdown",
   "metadata": {},
   "source": [
    "### 08) WAP to create an UDF named frequency to count occurances of the specific word in a given text file."
   ]
  },
  {
   "cell_type": "code",
   "execution_count": 19,
   "metadata": {},
   "outputs": [
    {
     "name": "stdout",
     "output_type": "stream",
     "text": [
      "1\n"
     ]
    }
   ],
   "source": [
    "def countWord(s,word):\n",
    "    count = 0\n",
    "    for i in s.split():\n",
    "        if i == word:\n",
    "            count += 1\n",
    "\n",
    "    return count\n",
    "\n",
    "fp = open(\"file.txt\",\"r\")\n",
    "\n",
    "print(countWord(fp.read(), \"ABC\"))\n",
    "\n",
    "fp.close()"
   ]
  },
  {
   "cell_type": "markdown",
   "metadata": {},
   "source": [
    "### 09) WAP to get the score of five subjects from the user, store them in a file. Fetch those marks and find the highest score."
   ]
  },
  {
   "cell_type": "code",
   "execution_count": 7,
   "metadata": {},
   "outputs": [
    {
     "name": "stdin",
     "output_type": "stream",
     "text": [
      "Enter your Maths mark: 12\n",
      "Enter your Science mark: 2\n",
      "Enter your  mark: 2\n",
      "Enter your Maths mark: 3\n",
      "Enter your Maths mark: 52\n"
     ]
    }
   ],
   "source": [
    "fp = open(\"one.txt\",\"r\")\n",
    "\n",
    "maths = int(input(\"Enter your Maths mark:\"))\n",
    "science = int(input(\"Enter your Science mark:\"))\n",
    "maths = int(input(\"Enter your  mark:\"))\n",
    "maths = int(input(\"Enter your Maths mark:\"))\n",
    "maths = int(input(\"Enter your Maths mark:\"))"
   ]
  },
  {
   "cell_type": "markdown",
   "metadata": {},
   "source": [
    "### 10) WAP to write first 100 prime numbers to a file named primenumbers.txt \n",
    "(Note: each number should be in new line)"
   ]
  },
  {
   "cell_type": "code",
   "execution_count": 9,
   "metadata": {},
   "outputs": [],
   "source": [
    "fp = open(\"two.txt\",\"w\")\n",
    "primeList = []\n",
    "n = 2\n",
    "\n",
    "while len(primeList) < 100:\n",
    "    for i in range(2,n):\n",
    "        if n % i == 0:\n",
    "            break\n",
    "    else:\n",
    "        primeList.append(f\"{n}\\n\")\n",
    "    n += 1\n",
    "\n",
    "for i in primeList:\n",
    "    fp.write(i)\n",
    "fp.close()\n"
   ]
  },
  {
   "cell_type": "markdown",
   "metadata": {},
   "source": [
    "### 11) WAP to merge two files and write it in a new file."
   ]
  },
  {
   "cell_type": "code",
   "execution_count": null,
   "metadata": {},
   "outputs": [],
   "source": [
    "rfp1 = open(\"one.txt\",\"r\")\n",
    "rfp2 = open(\"two.txt\",\"r\")\n",
    "wfp = open(\"three.txt\",\"w\")\n",
    "\n",
    "data = rfp1.read() + \" \" + rfp2.read()\n",
    "\n",
    "wfp.write(data)\n",
    "\n",
    "rfp1.close()\n",
    "rfp2.close()\n",
    "wfp.close()"
   ]
  },
  {
   "cell_type": "markdown",
   "metadata": {},
   "source": [
    "### 12) WAP to replace word1 by word2 of a text file. Write the updated data to new file."
   ]
  },
  {
   "cell_type": "code",
   "execution_count": 15,
   "metadata": {},
   "outputs": [
    {
     "name": "stdin",
     "output_type": "stream",
     "text": [
      "Enter Finding String : karan\n",
      "Enter Replace String : kanu'\n"
     ]
    }
   ],
   "source": [
    "find = input(\"Enter Finding String :\")\n",
    "replace = input(\"Enter Replace String :\")\n",
    "\n",
    "rfp = open(\"one.txt\",\"r\")\n",
    "wfp = open(\"two.txt\",\"w\")\n",
    "\n",
    "for i in rfp:\n",
    "    for j in i.split(\" \"):\n",
    "        if j == find:\n",
    "            print(j)\n",
    "            wfp.write(replace + \" \")\n",
    "        else:\n",
    "            wfp.write(j + \" \")\n",
    "\n",
    "rfp.close()\n",
    "wfp.close()"
   ]
  },
  {
   "cell_type": "markdown",
   "metadata": {},
   "source": [
    "### 13) Demonstrate tell() and seek() for all the cases(seek from beginning-end-current position) taking a suitable example of your choice."
   ]
  },
  {
   "cell_type": "code",
   "execution_count": 11,
   "metadata": {},
   "outputs": [
    {
     "name": "stdout",
     "output_type": "stream",
     "text": [
      "poiter when opening a file : 0\n",
      "Moving Pointer 10 charecter from begging of file : 10\n",
      "Moving Pointer from Current Position of a file : 10\n",
      "Moving Pointer to the end of file 42\n"
     ]
    }
   ],
   "source": [
    "fp = open(\"one.txt\",\"r\")\n",
    "\n",
    "print(\"poiter when opening a file :\",fp.tell())\n",
    "\n",
    "fp.seek(10,0)\n",
    "\n",
    "print(\"Moving Pointer 10 charecter from begging of file :\",fp.tell())\n",
    "\n",
    "fp.seek(0,1)\n",
    "\n",
    "print(\"Moving Pointer from Current Position of a file :\",fp.tell())\n",
    "\n",
    "fp.seek(0,2)\n",
    "\n",
    "print(\"Moving Pointer to the end of file\",fp.tell())"
   ]
  },
  {
   "cell_type": "code",
   "execution_count": null,
   "metadata": {},
   "outputs": [],
   "source": []
  }
 ],
 "metadata": {
  "kernelspec": {
   "display_name": "Python 3 (ipykernel)",
   "language": "python",
   "name": "python3"
  },
  "language_info": {
   "codemirror_mode": {
    "name": "ipython",
    "version": 3
   },
   "file_extension": ".py",
   "mimetype": "text/x-python",
   "name": "python",
   "nbconvert_exporter": "python",
   "pygments_lexer": "ipython3",
   "version": "3.12.7"
  }
 },
 "nbformat": 4,
 "nbformat_minor": 4
}
