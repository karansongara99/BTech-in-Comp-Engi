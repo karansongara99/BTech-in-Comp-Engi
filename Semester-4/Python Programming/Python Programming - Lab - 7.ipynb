{
 "cells": [
  {
   "cell_type": "markdown",
   "metadata": {},
   "source": [
    "<a href='https://www.darshan.ac.in/'> <img src='https://www.darshan.ac.in/Content/media/DU_Logo.svg' width=\"250\" height=\"300\"/></a>\n",
    "<pre>\n",
    "<center><b><h1>Python Programming - 2301CS404</b></center>\n",
    "    <center><b><h1>Karan Sonagara - 24010101694</b></center>\n",
    "<center><b><h1>Lab - 7</b></center>    \n",
    "<pre>"
   ]
  },
  {
   "cell_type": "code",
   "execution_count": null,
   "metadata": {},
   "outputs": [],
   "source": []
  },
  {
   "cell_type": "markdown",
   "metadata": {},
   "source": [
    "# Set & Dictionary"
   ]
  },
  {
   "cell_type": "markdown",
   "metadata": {},
   "source": [
    "### 01) WAP to iterate over a set."
   ]
  },
  {
   "cell_type": "code",
   "execution_count": 3,
   "metadata": {},
   "outputs": [
    {
     "name": "stdout",
     "output_type": "stream",
     "text": [
      "1\n",
      "2\n",
      "3\n",
      "4\n",
      "5\n",
      "6\n",
      "7\n",
      "8\n",
      "9\n"
     ]
    }
   ],
   "source": [
    "s = {1,2,3,4,5,6,7,8,9}\n",
    "for i in s:\n",
    "    print(i)"
   ]
  },
  {
   "cell_type": "markdown",
   "metadata": {},
   "source": [
    "### 02) WAP to convert set into list, string and tuple."
   ]
  },
  {
   "cell_type": "code",
   "execution_count": 9,
   "metadata": {},
   "outputs": [
    {
     "ename": "SyntaxError",
     "evalue": "f-string: cannot use starred expression here (1215557481.py, line 8)",
     "output_type": "error",
     "traceback": [
      "\u001b[1;36m  Cell \u001b[1;32mIn[9], line 8\u001b[1;36m\u001b[0m\n\u001b[1;33m    print(f\"set as string : {*s}\")\u001b[0m\n\u001b[1;37m     ^\u001b[0m\n\u001b[1;31mSyntaxError\u001b[0m\u001b[1;31m:\u001b[0m f-string: cannot use starred expression here\n"
     ]
    }
   ],
   "source": [
    "s = {1,2,3,4,5,6,7,8}\n",
    "print(f\"orignal set : {s}\")\n",
    "\n",
    "print(f\"set as list : {list(s)}\")\n",
    "\n",
    "print(f\"set as tuple : {tuple(s)}\")\n",
    "\n",
    "print(f\"set as string : {s}\")"
   ]
  },
  {
   "cell_type": "markdown",
   "metadata": {},
   "source": [
    "### 03) WAP to find Maximum and Minimum from a set."
   ]
  },
  {
   "cell_type": "code",
   "execution_count": 28,
   "metadata": {},
   "outputs": [
    {
     "name": "stdout",
     "output_type": "stream",
     "text": [
      "Maximum : 8 and Minimum : 1\n"
     ]
    }
   ],
   "source": [
    "n = int(input(\"Enter the size of Set:\"))\n",
    "s = {int(input(\"Enter Element:\")) for i in range(n)}\n",
    "\n",
    "minVal = 0\n",
    "maxVal = 0\n",
    "\n",
    "for i in s:\n",
    "    if minVal == 0 or minVal > i:\n",
    "        minVal = i\n",
    "    elif maxVal == 0 or maxVal < i:\n",
    "        maxVal = i\n",
    "\n",
    "print(f\"Maximum : {maxVal} and Minimum : {minVal}\")"
   ]
  },
  {
   "cell_type": "markdown",
   "metadata": {},
   "source": [
    "### 04) WAP to perform union of two sets."
   ]
  },
  {
   "cell_type": "code",
   "execution_count": 17,
   "metadata": {},
   "outputs": [
    {
     "name": "stdout",
     "output_type": "stream",
     "text": [
      "{1, 2, 3, 4, 5}\n"
     ]
    }
   ],
   "source": [
    "n = int(input(\"Enter the size of Set one:\"))\n",
    "s1 = {int(input(\"Enter Element:\")) for i in range(n)}\n",
    "\n",
    "m = int(input(\"Enter the size of Set two:\"))\n",
    "s2 = {int(input(\"Enter Element:\")) for i in range(m)}\n",
    "\n",
    "print(s1.union(s2))"
   ]
  },
  {
   "cell_type": "markdown",
   "metadata": {},
   "source": [
    "### 05) WAP to check if two lists have at-least one element common."
   ]
  },
  {
   "cell_type": "code",
   "execution_count": 31,
   "metadata": {},
   "outputs": [
    {
     "name": "stdout",
     "output_type": "stream",
     "text": [
      "{3} : Sets does not contain common elements\n"
     ]
    }
   ],
   "source": [
    "n = int(input(\"Enter the size of Set one:\"))\n",
    "s1 = {int(input(\"Enter Element:\")) for i in range(n)}\n",
    "\n",
    "m = int(input(\"Enter the size of Set two:\"))\n",
    "s2 = {int(input(\"Enter Element:\")) for i in range(m)}\n",
    "\n",
    "if len(s1.intersection(s2)) > 0:\n",
    "    print(\"Intersection of two sets is: \", s1.intersection(s2))\n",
    "else:\n",
    "    print(\"Sets does not contain common elements\")"
   ]
  },
  {
   "cell_type": "markdown",
   "metadata": {},
   "source": [
    "### 06) WAP to remove duplicates from list."
   ]
  },
  {
   "cell_type": "code",
   "execution_count": 32,
   "metadata": {},
   "outputs": [
    {
     "name": "stdout",
     "output_type": "stream",
     "text": [
      "{1, 2}\n"
     ]
    }
   ],
   "source": [
    "n = int(input(\"Enter the size of Set:\"))\n",
    "s = {int(input(\"Enter Element:\")) for i in range(n)}\n",
    "\n",
    "print(s.union(s))"
   ]
  },
  {
   "cell_type": "markdown",
   "metadata": {},
   "source": [
    "### 07) WAP to find unique words in the given string."
   ]
  },
  {
   "cell_type": "code",
   "execution_count": 38,
   "metadata": {},
   "outputs": [
    {
     "name": "stdout",
     "output_type": "stream",
     "text": [
      "{'is'}\n"
     ]
    }
   ],
   "source": [
    "str = input(\"Enter String:\")\n",
    "\n",
    "s = set(str.split(\" \"))\n",
    "\n",
    "print(s.intersection(s))"
   ]
  },
  {
   "cell_type": "markdown",
   "metadata": {},
   "source": [
    "### 08) WAP to remove common elements of set A & B from set A."
   ]
  },
  {
   "cell_type": "code",
   "execution_count": 44,
   "metadata": {},
   "outputs": [
    {
     "name": "stdout",
     "output_type": "stream",
     "text": [
      "{1, 2}\n"
     ]
    }
   ],
   "source": [
    "n = int(input(\"Enter the size of Set one:\"))\n",
    "s1 = {int(input(\"Enter Element:\")) for i in range(n)}\n",
    "\n",
    "m = int(input(\"Enter the size of Set two:\"))\n",
    "s2 = {int(input(\"Enter Element:\")) for i in range(m)}\n",
    "\n",
    "for i in s1.intersection(s2):\n",
    "    s1.discard(i)\n",
    "\n",
    "print(s1)"
   ]
  },
  {
   "cell_type": "markdown",
   "metadata": {},
   "source": [
    "### 09) WAP to check whether two given strings are anagram or not using set."
   ]
  },
  {
   "cell_type": "code",
   "execution_count": null,
   "metadata": {},
   "outputs": [
    {
     "name": "stdout",
     "output_type": "stream",
     "text": [
      "{'a', 'b', 'c'}\n",
      "give String cba is anagram\n"
     ]
    }
   ],
   "source": [
    "str1 = input(\"Enter String:\")\n",
    "str2  = input(\"Enter Anagram String:\")\n",
    "\n",
    "s1 = set(str1)\n",
    "s2 = set(str2)\n",
    "\n",
    "if len(s1.union(s2)) != len(s2):\n",
    "    print(\"give String is not anagram\")\n",
    "else:\n",
    "    print(f\"give String {str2} is anagram\")"
   ]
  },
  {
   "cell_type": "markdown",
   "metadata": {},
   "source": [
    "### 10) WAP to find common elements in three lists using set."
   ]
  },
  {
   "cell_type": "code",
   "execution_count": 67,
   "metadata": {},
   "outputs": [
    {
     "name": "stdout",
     "output_type": "stream",
     "text": [
      "{1}\n"
     ]
    }
   ],
   "source": [
    "n = int(input(\"Enter the size of Set one:\"))\n",
    "s1 = {int(input(\"Enter Element:\")) for i in range(n)}\n",
    "\n",
    "m = int(input(\"Enter the size of Set two:\"))\n",
    "s2 = {int(input(\"Enter Element:\")) for i in range(m)}\n",
    "\n",
    "o = int(input(\"Enter the size of Set three:\"))\n",
    "s3 = {int(input(\"Enter Element:\")) for i in range(o)}\n",
    "\n",
    "print(s1 & s2 & s3)"
   ]
  },
  {
   "cell_type": "markdown",
   "metadata": {},
   "source": [
    "### 11) WAP to count number of vowels in given string using set."
   ]
  },
  {
   "cell_type": "code",
   "execution_count": 71,
   "metadata": {},
   "outputs": [
    {
     "name": "stdout",
     "output_type": "stream",
     "text": [
      "2\n"
     ]
    }
   ],
   "source": [
    "str = input(\"Enter String:\")\n",
    "\n",
    "s = set(str)\n",
    "\n",
    "count = 0\n",
    "\n",
    "for i in s:\n",
    "    if i.lower()=='a' or i.lower()=='e' or i.lower()=='i' or i.lower()=='o' or i.lower()=='u':\n",
    "        count += 1\n",
    "\n",
    "print(count)"
   ]
  },
  {
   "cell_type": "markdown",
   "metadata": {},
   "source": [
    "### 12) WAP to check if a given string is binary string or not."
   ]
  },
  {
   "cell_type": "code",
   "execution_count": 76,
   "metadata": {},
   "outputs": [
    {
     "name": "stdout",
     "output_type": "stream",
     "text": [
      "Binary String is invalid\n"
     ]
    }
   ],
   "source": [
    "str = input(\"Enter binary String:\")\n",
    "\n",
    "if all(i==\"0\" or i==\"1\" for i in str):\n",
    "    print(\"Binary String is valid\")\n",
    "else:\n",
    "    print(\"Binary String is invalid\")"
   ]
  },
  {
   "cell_type": "markdown",
   "metadata": {},
   "source": [
    "### 13) WAP to sort dictionary by key or value."
   ]
  },
  {
   "cell_type": "code",
   "execution_count": 86,
   "metadata": {},
   "outputs": [
    {
     "name": "stdout",
     "output_type": "stream",
     "text": [
      "qwe\n",
      "asd\n"
     ]
    }
   ],
   "source": [
    "n = int(input(\"Enter the size of dictionary:\"))\n",
    "d = {int(input(\"Enter Key:\")): input(\"Enter value:\") for i in range(n)}\n",
    "\n",
    "for i in sorted(d):\n",
    "    print(d.get(i))"
   ]
  },
  {
   "cell_type": "markdown",
   "metadata": {},
   "source": [
    "### 14) WAP to find the sum of all items (values) in a dictionary given by user. (Assume: values are numeric)"
   ]
  },
  {
   "cell_type": "code",
   "execution_count": 87,
   "metadata": {},
   "outputs": [
    {
     "name": "stdout",
     "output_type": "stream",
     "text": [
      "3\n"
     ]
    }
   ],
   "source": [
    "n = int(input(\"Enter the size of dictionary:\"))\n",
    "d = {int(input(\"Enter Key:\")): int(input(\"Enter value:\")) for i in range(n)}\n",
    "\n",
    "sum = 0\n",
    "for i in d.values():\n",
    "    sum += i\n",
    "\n",
    "print(sum)"
   ]
  },
  {
   "cell_type": "markdown",
   "metadata": {},
   "source": [
    "### 15) WAP to handle missing keys in dictionaries.\n",
    "#### Example : Given, dict1 = {'a': 5, 'c': 8, 'e': 2} \n",
    "#### if you look for key = 'd', the message given should be 'Key Not Found', otherwise print the value of 'd' in dict1."
   ]
  },
  {
   "cell_type": "code",
   "execution_count": 95,
   "metadata": {},
   "outputs": [
    {
     "name": "stdout",
     "output_type": "stream",
     "text": [
      "Key not found\n"
     ]
    }
   ],
   "source": [
    "n = int(input(\"Enter the size of dictionary:\"))\n",
    "d = {input(\"Enter Key:\"): int(input(\"Enter value:\")) for i in range(n)}\n",
    "\n",
    "k = input(\"Enter Key:\")\n",
    "\n",
    "if all(i==k for i in d.keys()):\n",
    "    print(f\"value of yor key is {a.get(k)}\")\n",
    "else:\n",
    "    print(\"Key not found\")"
   ]
  },
  {
   "cell_type": "code",
   "execution_count": null,
   "metadata": {},
   "outputs": [],
   "source": []
  }
 ],
 "metadata": {
  "kernelspec": {
   "display_name": "Python 3 (ipykernel)",
   "language": "python",
   "name": "python3"
  },
  "language_info": {
   "codemirror_mode": {
    "name": "ipython",
    "version": 3
   },
   "file_extension": ".py",
   "mimetype": "text/x-python",
   "name": "python",
   "nbconvert_exporter": "python",
   "pygments_lexer": "ipython3",
   "version": "3.12.7"
  }
 },
 "nbformat": 4,
 "nbformat_minor": 4
}
