{
 "cells": [
  {
   "cell_type": "markdown",
   "metadata": {},
   "source": [
    "<a href='https://www.darshan.ac.in/'> <img src='https://www.darshan.ac.in/Content/media/DU_Logo.svg' width=\"250\" height=\"300\"/></a>\n",
    "<pre>\n",
    "<center><b><h1>Python Programming - 2301CS404</b></center>\n",
    "    <center><b><h1>Karan Sonagara - 24010101694</b></center>\n",
    "<center><b><h1>Lab - 10</b></center>    \n",
    "<pre>"
   ]
  },
  {
   "cell_type": "markdown",
   "metadata": {},
   "source": [
    "# Exception Handling"
   ]
  },
  {
   "cell_type": "markdown",
   "metadata": {},
   "source": [
    "### 01) WAP to handle following exceptions:\n",
    "1. ZeroDivisionError\n",
    "2. ValueError\n",
    "3. TypeError\n",
    "#### Note: handle them using separate except blocks and also using single except block too."
   ]
  },
  {
   "cell_type": "code",
   "execution_count": 7,
   "metadata": {},
   "outputs": [
    {
     "name": "stdout",
     "output_type": "stream",
     "text": [
      "Starting Program ....\n",
      "You can't divide by zero!\n",
      "0.8333333333333334\n",
      "Terminated\n"
     ]
    }
   ],
   "source": [
    "print(\"Starting Program ....\")\n",
    "a = 10\n",
    "b = 0\n",
    "try:\n",
    "  result = a / b\n",
    "except ZeroDivisionError:\n",
    "    print(\"You can't divide by zero!\")\n",
    "    print(result)\n",
    "print(\"Terminated\")"
   ]
  },
  {
   "cell_type": "code",
   "execution_count": 23,
   "metadata": {},
   "outputs": [
    {
     "name": "stdout",
     "output_type": "stream",
     "text": [
      "Starting program...\n"
     ]
    },
    {
     "name": "stdin",
     "output_type": "stream",
     "text": [
      " sfd\n"
     ]
    },
    {
     "name": "stdout",
     "output_type": "stream",
     "text": [
      "You can't Value  Error\n",
      "Terminated\n"
     ]
    }
   ],
   "source": [
    "print(\"Starting program...\")\n",
    "try:\n",
    "    a = int(input())\n",
    "except ValueError:\n",
    "    print(\"You can't Value  Error\")\n",
    "print(\"Terminated\")"
   ]
  },
  {
   "cell_type": "code",
   "execution_count": 27,
   "metadata": {},
   "outputs": [
    {
     "name": "stdout",
     "output_type": "stream",
     "text": [
      "Starting Program...\n",
      "You can't Type Error\n",
      "Teriminated\n"
     ]
    }
   ],
   "source": [
    "print(\"Starting Program...\")\n",
    "k = \"Karan\"\n",
    "n = 10\n",
    "try:\n",
    "    print(k + n)\n",
    "except TypeError:\n",
    "    print(\"You can't Type Error\")\n",
    "print(\"Teriminated\")"
   ]
  },
  {
   "cell_type": "markdown",
   "metadata": {},
   "source": [
    "### 02)  WAP to handle following exceptions:\n",
    "1. IndexError\n",
    "2. KeyError"
   ]
  },
  {
   "cell_type": "code",
   "execution_count": 35,
   "metadata": {},
   "outputs": [
    {
     "name": "stdout",
     "output_type": "stream",
     "text": [
      "Stating Program .....\n",
      "You can Index Error\n",
      "Terminated\n"
     ]
    }
   ],
   "source": [
    "print(\"Stating Program .....\")\n",
    "arr = [1,20,10,30,50]\n",
    "try:\n",
    "    k = 10\n",
    "    value = arr[k]\n",
    "    print(value)\n",
    "except IndexError:\n",
    "    print(\"You can't Index Error\")\n",
    "print(\"Terminated\")"
   ]
  },
  {
   "cell_type": "code",
   "execution_count": 41,
   "metadata": {},
   "outputs": [
    {
     "name": "stdout",
     "output_type": "stream",
     "text": [
      "Stating Program .....\n",
      "You can't Key Error\n",
      "Terminated\n"
     ]
    }
   ],
   "source": [
    "print(\"Stating Program .....\")\n",
    "a = {1:\"karan\",2:\"DU\",3:\"laptop\"}\n",
    "try:\n",
    "    k = 4\n",
    "    value = a[k]\n",
    "    print(value)\n",
    "except KeyError:\n",
    "    print(\"You can't Key Error\")\n",
    "print(\"Terminated\")"
   ]
  },
  {
   "cell_type": "markdown",
   "metadata": {},
   "source": [
    "### 03) WAP to handle following exceptions:\n",
    "1. FileNotFoundError\n",
    "2. ModuleNotFoundError"
   ]
  },
  {
   "cell_type": "code",
   "execution_count": 69,
   "metadata": {},
   "outputs": [
    {
     "name": "stdout",
     "output_type": "stream",
     "text": [
      "file not found\n"
     ]
    }
   ],
   "source": [
    "try:\n",
    "\tfile1 = open(\"kanu.txt\")\n",
    "except FileNotFoundError:\n",
    "\tprint(\"file not found\")"
   ]
  },
  {
   "cell_type": "code",
   "execution_count": 85,
   "metadata": {},
   "outputs": [
    {
     "name": "stdout",
     "output_type": "stream",
     "text": [
      "Starting Program....\n",
      "You can't Module Not Found\n",
      "No module named 'match'\n",
      "Terminated\n"
     ]
    }
   ],
   "source": [
    "print(\"Starting Program....\")\n",
    "try:\n",
    "    import match\n",
    "except ModuleNotFoundError as ex:\n",
    "    print(\"You can't Module Not Found\")\n",
    "    print(ex)\n",
    "print(\"Terminated\")"
   ]
  },
  {
   "cell_type": "markdown",
   "metadata": {},
   "source": [
    "### 04) WAP that catches all type of exceptions in a single except block."
   ]
  },
  {
   "cell_type": "code",
   "execution_count": 75,
   "metadata": {},
   "outputs": [
    {
     "name": "stdout",
     "output_type": "stream",
     "text": [
      "Starting Program...\n"
     ]
    },
    {
     "name": "stdin",
     "output_type": "stream",
     "text": [
      "Input a number:  0\n"
     ]
    },
    {
     "name": "stdout",
     "output_type": "stream",
     "text": [
      "division by zero\n",
      "Invalid input or division by zero occurred.\n",
      "Terminated..\n"
     ]
    }
   ],
   "source": [
    "print(\"Starting Program...\")\n",
    "try:\n",
    "    n = int(input(\"Input a number: \"))\n",
    "    result = 10 / n\n",
    "except (ValueError, ZeroDivisionError,TypeError) as msg:\n",
    "    print(msg)\n",
    "    print(\"Invalid input or division by zero occurred.\")\n",
    "print(\"Terminated..\")"
   ]
  },
  {
   "cell_type": "markdown",
   "metadata": {},
   "source": [
    "### 05) WAP to demonstrate else  and finally block."
   ]
  },
  {
   "cell_type": "code",
   "execution_count": 94,
   "metadata": {},
   "outputs": [
    {
     "name": "stdout",
     "output_type": "stream",
     "text": [
      "Starting Program....\n",
      "Something went wrong\n",
      "The try...except block is finished\n",
      "Terminated\n"
     ]
    }
   ],
   "source": [
    "print(\"Starting Program....\")\n",
    "a,b = 10,0\n",
    "try:\n",
    "  a / b\n",
    "except:\n",
    "  print(\"Something went wrong\")\n",
    "else:\n",
    "  print(\"Nothing went wrong\")\n",
    "finally:\n",
    "  print(\"The try...except block is finished\")\n",
    "print(\"Terminated\")"
   ]
  },
  {
   "cell_type": "markdown",
   "metadata": {},
   "source": [
    "### 06) Create a short program that prompts the user for a list of grades separated by commas. \n",
    "### Split the string into individual grades and use a list comprehension to convert each string to an integer. \n",
    "### You should use a try statement to inform the user when the values they entered cannot be converted."
   ]
  },
  {
   "cell_type": "code",
   "execution_count": 114,
   "metadata": {},
   "outputs": [
    {
     "name": "stdout",
     "output_type": "stream",
     "text": [
      "Starting Program...\n"
     ]
    },
    {
     "name": "stdin",
     "output_type": "stream",
     "text": [
      "Enter Grades 1,20,30,\n"
     ]
    },
    {
     "name": "stdout",
     "output_type": "stream",
     "text": [
      "You can't Value Error \n",
      "Terminated....\n"
     ]
    }
   ],
   "source": [
    "print(\"Starting Program...\")\n",
    "n = input(\"Enter Grades\")\n",
    "try:\n",
    "    i = [int(i) for i in n.split(\",\")]\n",
    "    print(\"Grades\",i)\n",
    "except ValueError:\n",
    "    print(\"You can't Value Error \")\n",
    "print(\"Terminated....\")"
   ]
  },
  {
   "cell_type": "markdown",
   "metadata": {},
   "source": [
    "### 07) WAP to create an udf divide(a,b) that handles ZeroDivisionError."
   ]
  },
  {
   "cell_type": "code",
   "execution_count": 116,
   "metadata": {},
   "outputs": [
    {
     "name": "stdout",
     "output_type": "stream",
     "text": [
      "Starting Program....\n",
      "The division by zero operation is not allowed.\n",
      "Terminated\n"
     ]
    }
   ],
   "source": [
    "print(\"Starting Program....\")\n",
    "def dm(x, y):\n",
    "    try:\n",
    "        result = x / y\n",
    "        print(\"Result:\", result)\n",
    "    except ZeroDivisionError:\n",
    "        print(\"The division by zero operation is not allowed.\")\n",
    "n = 10\n",
    "d = 0\n",
    "dm(n, d)\n",
    "print(\"Terminated\")"
   ]
  },
  {
   "cell_type": "markdown",
   "metadata": {},
   "source": [
    "### 08) WAP that gets an age of a person form the user and raises ValueError with error message: \"Enter Valid Age\" :\n",
    "#### If the age is less than 18. \n",
    "#### otherwise print the age."
   ]
  },
  {
   "cell_type": "code",
   "execution_count": 151,
   "metadata": {},
   "outputs": [
    {
     "name": "stdout",
     "output_type": "stream",
     "text": [
      "Starting Program....\n"
     ]
    },
    {
     "name": "stdin",
     "output_type": "stream",
     "text": [
      " 10\n"
     ]
    },
    {
     "name": "stdout",
     "output_type": "stream",
     "text": [
      "Enter Valid Age\n",
      "Terminated\n"
     ]
    }
   ],
   "source": [
    "print(\"Starting Program....\")\n",
    "age = int(input())\n",
    "try:\n",
    "    if age < 18:\n",
    "        raise ValueError(\"Enter Valid Age\")\n",
    "    else:\n",
    "        print(age)\n",
    "except ValueError as ex:\n",
    "    print(ex)\n",
    "print(\"Terminated\")"
   ]
  },
  {
   "cell_type": "markdown",
   "metadata": {},
   "source": [
    "### 09) WAP to raise your custom Exception named InvalidUsernameError with the error message : \"Username must be between 5 and 15 characters long\":\n",
    "#### if the given name is having characters less than 5 or greater than 15.\n",
    "#### otherwise print the given username."
   ]
  },
  {
   "cell_type": "code",
   "execution_count": 159,
   "metadata": {},
   "outputs": [
    {
     "name": "stdout",
     "output_type": "stream",
     "text": [
      "Starting Program....\n"
     ]
    },
    {
     "name": "stdin",
     "output_type": "stream",
     "text": [
      " karan\n"
     ]
    },
    {
     "name": "stdout",
     "output_type": "stream",
     "text": [
      "karan\n",
      "Ending....\n"
     ]
    }
   ],
   "source": [
    "print(\"Starting Program....\")\n",
    "user = input(\"\")\n",
    "try:\n",
    "    if len(user) < 5 or len(user) > 15:\n",
    "        raise Exception(\"Invalid UserName\")\n",
    "    else:\n",
    "        print(user)\n",
    "except Exception as ex:\n",
    "    print(ex)\n",
    "print(\"Ending....\")"
   ]
  },
  {
   "cell_type": "markdown",
   "metadata": {},
   "source": [
    "### 10) WAP to raise your custom Exception named NegativeNumberError with the error message : \"Cannot calculate the square root of a negative number\" :\n",
    "#### if the given number is negative.\n",
    "#### otherwise print the square root of the given number."
   ]
  },
  {
   "cell_type": "code",
   "execution_count": 169,
   "metadata": {},
   "outputs": [
    {
     "name": "stdout",
     "output_type": "stream",
     "text": [
      "Starting Program...\n"
     ]
    },
    {
     "name": "stdin",
     "output_type": "stream",
     "text": [
      " -20\n"
     ]
    },
    {
     "name": "stdout",
     "output_type": "stream",
     "text": [
      "Invalid number\n",
      "Ending\n"
     ]
    }
   ],
   "source": [
    "print(\"Starting Program...\")\n",
    "n = float(input())\n",
    "try:\n",
    "    if n < 0:\n",
    "        raise Exception(\"Invalid number\")\n",
    "    else:\n",
    "        print(n)\n",
    "except Exception as x:\n",
    "    print(x)\n",
    "print(\"Ending\")"
   ]
  }
 ],
 "metadata": {
  "kernelspec": {
   "display_name": "Python 3 (ipykernel)",
   "language": "python",
   "name": "python3"
  },
  "language_info": {
   "codemirror_mode": {
    "name": "ipython",
    "version": 3
   },
   "file_extension": ".py",
   "mimetype": "text/x-python",
   "name": "python",
   "nbconvert_exporter": "python",
   "pygments_lexer": "ipython3",
   "version": "3.12.7"
  }
 },
 "nbformat": 4,
 "nbformat_minor": 4
}
